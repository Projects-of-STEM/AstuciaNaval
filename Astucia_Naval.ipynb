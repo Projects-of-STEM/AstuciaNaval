{
  "cells": [
    {
      "attachments": {},
      "cell_type": "markdown",
      "metadata": {
        "id": "8i6RaHgPQ9AW"
      },
      "source": [
        "# Astucia Naval"
      ]
    },
    {
      "attachments": {},
      "cell_type": "markdown",
      "metadata": {
        "id": "0PewlHmHRYBs"
      },
      "source": [
        "## Importar las librerías a usar"
      ]
    },
    {
      "cell_type": "code",
      "execution_count": 5,
      "metadata": {
        "id": "82p0MZLozl_d"
      },
      "outputs": [],
      "source": [
        "%matplotlib inline\n",
        "import matplotlib.pyplot as plt\n",
        "import numpy as np"
      ]
    },
    {
      "attachments": {},
      "cell_type": "markdown",
      "metadata": {
        "id": "3knbN25CRGqP"
      },
      "source": [
        "## Graficar tablero en matplotlib\n",
        "\n",
        "Función para graficar un tablero de juego dadas dos matrices, una correspondiente a los barcos y la otra a los ataques.\n",
        "Para la matriz de **barcos**:\n",
        "\n",
        "\n",
        "\n",
        "*   Un espacio sin barco y no atacado es representado por un 0 (int)\n",
        "*   Un espacio con barco y no atacado es representado por un 1 (int)\n",
        "*   Un espacio con barco y no atacado es representado por un 2 (int)\n",
        "*   Un espacio con barco atacado es representado por un 3 (int)\n",
        "\n",
        "Para la matriz de **ataques**:\n",
        "\n",
        "\n",
        "*   Un espacio no atacado es representado por un 0 (int)\n",
        "*   Un espacio atacado que no impactó a ningún barco es representado por un 1 (int)\n",
        "\n",
        "*   Un espacio atacado que no impactó a ningún barco es representado por un 2 (int)"
      ]
    },
    {
      "cell_type": "code",
      "execution_count": 169,
      "metadata": {
        "id": "CXJsVVj2G28h"
      },
      "outputs": [],
      "source": [
        "def graficar_tablero(BARCOS, ATAQUE):\n",
        "  \"\"\"\n",
        "  Función para graficar un tablero de juego dadas dos matrices, una correspondiente a los barcos y la otra a los ataques.\n",
        "Para la matriz de barcos:\n",
        "\n",
        "*   Un espacio sin barco y no atacado es representado por un 0 (int)\n",
        "*   Un espacio con barco y no atacado es representado por un 1 (int)\n",
        "*   Un espacio con barco y no atacado es representado por un 2 (int)\n",
        "*   Un espacio con barco atacado es representado por un 3 (int)\n",
        "\n",
        "Para la matriz de **ataques**:\n",
        "\n",
        "\n",
        "*   Un espacio no atacado es representado por un 0 (int)\n",
        "*   Un espacio atacado que no impactó a ningún barco es representado por un 1 (int)\n",
        "\n",
        "*   Un espacio atacado que no impactó a ningún barco es representado por un 2 (int)\n",
        "  \"\"\"\n",
        "  # Primero se verifica que las dimensiones de las matrices sean las mismas\n",
        "  if (np.array(BARCOS).shape==np.array(ATAQUE).shape):\n",
        "    N = np.array(BARCOS).shape[0]\n",
        "  else:\n",
        "    raise ValueError(\"Las dimensiones de las matrices son diferentes\")\n",
        "  # Define figura con un axes 3d maximizando el espacio de graficación\n",
        "  fig = plt.figure()\n",
        "  ax = fig.add_subplot(111, projection='3d')\n",
        "  fig.subplots_adjust(left=0,bottom=0,top=1,right=1)\n",
        "  # Define arrays necesarios para la graficación del tablero de astucia naval como\n",
        "  # graficos de barras para el tablero de ataque y grafico de barras 3d para el \n",
        "  # tablero de barcos\n",
        "  left=np.arange(N)\n",
        "  height=np.ones(N)\n",
        "  zs=height*N\n",
        "  B_Color = []\n",
        "  for i in range(N):\n",
        "    A_Color = []\n",
        "    # Analiza las matrices de barcos para asignar colores\n",
        "    for j in range(N):\n",
        "      if BARCOS[N-i-1][j]==0:\n",
        "        B_Color.append('#00FFFF')\n",
        "      elif BARCOS[N-i-1][j]==1:\n",
        "        B_Color.append('#999999')\n",
        "      elif BARCOS[N-i-1][j]==2:\n",
        "        B_Color.append('b')\n",
        "      else:\n",
        "        B_Color.append('r')\n",
        "    # Analiza las matrices de ataque para asignar colores\n",
        "    for j in range(N):\n",
        "      if ATAQUE[i][j]==0:\n",
        "        A_Color.append('c')\n",
        "      elif ATAQUE[i][j]==1:\n",
        "        A_Color.append('b')\n",
        "      else:\n",
        "        A_Color.append('r')\n",
        "    # Grafica el tablero de ataque linea por línea\n",
        "    ax.bar(left,height-0.1,zs,zdir='y',color=A_Color,bottom=height*(N-1-i), align='edge')\n",
        "  # Analiza los valores de la matriz de barcos para definir una matriz con las posiciones\n",
        "  # donde están los barcos diferentes de cero. Esto con el fin de que correspondan a las\n",
        "  # alturas de las barras en el bar3d y que los barcos se diferencien del mar por su altura\n",
        "  _x = np.arange(N)\n",
        "  _y = np.arange(N)\n",
        "  _xx, _yy = np.meshgrid(_x, _y)\n",
        "  x, y = _xx.ravel(), _yy.ravel()\n",
        "  bottom = np.zeros_like(x)\n",
        "  top = bottom +0.1 \n",
        "  top = [(top[i+j] + 0.2*(BARCOS[N-i-1][j]==1)) for i in range (N) for j in range(N)]\n",
        "  # Grafica la matriz de barcos en 3D\n",
        "  ax.bar3d(x, y, bottom, 0.8, 0.7, top, shade=True, color = B_Color)\n",
        "  # Define los límites de los ejes de las graficas\n",
        "  ax.set_xlim(-0.3,N)\n",
        "  ax.set_ylim(0,N)\n",
        "  ax.set_zlim(0,N)\n",
        "  # Organiza las etiquetas de los ejes\n",
        "  ax.set_xticks(np.arange(N)+0.5)\n",
        "  ax.set_xticklabels(np.arange(N))\n",
        "  ax.set_yticks(np.arange(N+1)+0.5)\n",
        "  ax.set_yticklabels([\" \"]+list(range(N-1,-1,-1)))\n",
        "  ax.set_zticks(np.arange(N))\n",
        "  ax.set_zticklabels(np.arange(N-1,-1,-1))\n",
        "  # Cambia el ángulo de visualización\n",
        "  ax.view_init(30, 290)\n",
        "  # Título de la grafica\n",
        "  plt.title(\"ASTUCIA NAVAL\",fontsize=12)\n",
        "  plt.show() "
      ]
    },
    {
      "attachments": {},
      "cell_type": "markdown",
      "metadata": {},
      "source": [
        "Para mostrar como se ve un tablero de astucia naval usando la función anterior se define una matriz con algunos barcos y tres ataques en el tablero del jugador y dos ataques realizados en el tablero de ataque."
      ]
    },
    {
      "cell_type": "code",
      "execution_count": 170,
      "metadata": {
        "colab": {
          "base_uri": "https://localhost:8080/",
          "height": 516
        },
        "id": "X_Hp0VgfSgCX",
        "outputId": "2d2279a2-72b6-4b5b-ddbe-90e4ac44f5a0"
      },
      "outputs": [
        {
          "data": {
            "image/png": "[encoded data removed]",
            "text/plain": [
              "<Figure size 640x480 with 1 Axes>"
            ]
          },
          "metadata": {},
          "output_type": "display_data"
        }
      ],
      "source": [
        "n=10\n",
        "B = np.zeros(shape=(n,n))\n",
        "A=np.zeros(shape=(n,n))\n",
        "B[0:4,0]=1\n",
        "B[4,0]=3\n",
        "B[5:7,0]=2\n",
        "B[1,2:6]=1\n",
        "B[3:6,7]=1\n",
        "B[8,2:5]=1\n",
        "B[3:6,7]=1\n",
        "B[8:,9]=1\n",
        "A[1,1]=1\n",
        "A[2,2]=2\n",
        "graficar_tablero(B,A)"
      ]
    },
    {
      "attachments": {},
      "cell_type": "markdown",
      "metadata": {
        "id": "wKMHMrv0M6Hx"
      },
      "source": [
        "## ¿Cómo imprimir un tablero de astucia naval con el comando print?\n",
        "\n",
        "Se deben tener dos matrices, una correspondiente a los barcos y la otra a los ataques.\n",
        "Para la matriz de **barcos**:\n",
        "\n",
        "\n",
        "\n",
        "*   Un espacio sin barco y no atacado es representado por un 0 (int)\n",
        "*   Un espacio con barco y no atacado es representado por un 1 (int)\n",
        "*   Un espacio con barco y no atacado es representado por un 2 (int)\n",
        "*   Un espacio con barco atacado es representado por un 3 (int)\n",
        "\n",
        "Para la matriz de **ataques**:\n",
        "\n",
        "\n",
        "\n",
        "*   Un espacio no atacado es representado por un 0 (int)\n",
        "*   Un espacio atacado que no impactó a ningún barco es representado por un 1 (int)\n",
        "\n",
        "*   Un espacio atacado que no impactó a ningún barco es representado por un 2 (int)\n",
        "\n",
        "Se crean dos funciones auxiliares, `convertir_A` y `convertir_A`, las cuales toman una matriz y coordenadas `i` `j` de la misma. Convierten el valor numérico en un caracter según las convenciones dadas arriba para que al imprimir el tablero se vea más esrtilizado.\n",
        "\n",
        "Se crea la función imprimit_tablero, la cuál imprime un tablero N*N con N establecido por defecto en 10 para el\n",
        "  juego de astucia Naval.\n",
        "  Habrá un tablero frontal de ataque y uno diagonal de posicionamiento de barcos. \n",
        "  \n",
        "  Para el tablero de barcos:\n",
        "  Donde hay una posición de un barco sin atacar se pone la letra B. Donde hay una\n",
        "  posición de barco atacado se pone X. Donde hay mar se deja vacío y donde se atacó\n",
        "  pero no había barco se pone O.\n",
        "\n",
        "\n",
        "  Para el tablero de ataque:\n",
        "  Donde no se ha atacado se deja vacío, donde se atacó y no había barco se deja O\n",
        "  y donde se atacó y había parte de un barco se pone X\n",
        "\n",
        "\n",
        "\n"
      ]
    },
    {
      "cell_type": "code",
      "execution_count": null,
      "metadata": {
        "id": "-6HIXefDHLCS"
      },
      "outputs": [],
      "source": [
        "# EN CASO DE NO DESEAR IMPRIMIR CON MATPLOTLIB USAR LAS SIGUIENTES FUNCIONES\n",
        "# EN LUGAR DE graficar_tablero\n",
        "\n",
        "def convertir_A(ATAQUE,i,j):\n",
        "  \"\"\"\n",
        "  Convierte la posición i,j de una materiz un enteron 0 en un espacio en blanco, un entero 1 en el caracter O y otro dato en el caracter X\n",
        "\n",
        "  >>>convertir_A([[0,0,1],[0,2,1],[0,0,1]],1,2)\n",
        "  0\n",
        "  \"\"\"\n",
        "  if ATAQUE[i][j]==0:\n",
        "    return(\" \")\n",
        "  elif ATAQUE[i][j]==1:\n",
        "    return(\"O\")\n",
        "  else:\n",
        "    return(\"X\")\n",
        "\n",
        "\n",
        "def convertir_B(BARCOS,i,j):\n",
        "  \"\"\"\n",
        "  Convierte la posición i,j de una materiz un enteron 0 en un espacio en blanco,\n",
        "  un entero 1 en el caracter B, un entero 2 en el caracter O y otro dato en el caracter X\n",
        "\n",
        "  >>>convertir_A([[0,3,1],[0,2,1],[3,0,1]],1,2)\n",
        "  B\n",
        "  \"\"\"\n",
        "  if BARCOS[i][j]==0:\n",
        "    return(\" \")\n",
        "  elif BARCOS[i][j]==1:\n",
        "    return(\"B\")\n",
        "  elif BARCOS[i][j]==2:\n",
        "    return(\"0\")\n",
        "  else:\n",
        "    return(\"X\")\n",
        "\n",
        "\n",
        "\n",
        "def imprimit_tablero(BARCOS, ATAQUE):\n",
        "  \"\"\"\n",
        "  Función que imprime un tablero N*N con N establecido por defecto en 10 para el\n",
        "  juego de astucia Naval.\n",
        "  Habrá un tablero frontal de ataque y uno diagonal de posicionamiento de barcos. \n",
        "  \n",
        "  Para el tablero de barcos:\n",
        "  Donde hay una posición de un barco sin atacar se pone la letra B. Donde hay una\n",
        "  posición de barco atacado se pone X. Donde hay mar se deja vacío y donde se atacó\n",
        "  pero no había barco se pone O.\n",
        "\n",
        "\n",
        "  Para el tablero de ataque:\n",
        "  Donde no se ha atacado se deja vacío, donde se atacó y no había barco se deja O\n",
        "  y donde se atacó y había parte de un barco se pone X\n",
        "\n",
        "  >>>import numpy as np\n",
        "  >>>imprimit_tablero(np.random.randint(0,3, size=(10,10)), np.random.randint(0,3, size=(10,10)))\n",
        "-----------------------------------------\n",
        "| O | X | X |   |   | X | X | O |   | X |\n",
        "-----------------------------------------\n",
        "| X |   | X |   |   | O | O |   |   | X |\n",
        "-----------------------------------------\n",
        "|   | X | O | X |   | X | O | O |   |   |\n",
        "-----------------------------------------\n",
        "| X |   | X | O | O | X | X | X |   | X |\n",
        "-----------------------------------------\n",
        "| O |   |   | O | X | X | X | O | O |   |\n",
        "-----------------------------------------\n",
        "|   | O | O |   |   | O |   |   |   | O |\n",
        "-----------------------------------------\n",
        "| X | X |   | O | O | O |   | O |   | X |\n",
        "-----------------------------------------\n",
        "| O | O | O |   | X |   |   | X | X |   |\n",
        "-----------------------------------------\n",
        "| X | O | X | O | O | X | O | X | O |   |\n",
        "-----------------------------------------\n",
        "| X | O |   | X |   | X |   | X |   | O |\n",
        "-----------------------------------------\n",
        "\\ B \\ B \\ X \\ 0 \\ X \\ B \\ 0 \\   \\ X \\ B \\ \n",
        " -----------------------------------------\n",
        " \\ X \\ 0 \\ X \\ 0 \\ 0 \\ B \\   \\ 0 \\ X \\ B \\ \n",
        "  -----------------------------------------\n",
        "  \\ B \\ 0 \\ 0 \\   \\   \\   \\ 0 \\ 0 \\ 0 \\ B \\ \n",
        "   -----------------------------------------\n",
        "   \\   \\   \\ X \\ 0 \\ X \\ B \\ B \\ X \\ X \\ B \\ \n",
        "    -----------------------------------------\n",
        "    \\ 0 \\ X \\ X \\ B \\   \\ X \\ X \\ X \\ 0 \\ 0 \\ \n",
        "     -----------------------------------------\n",
        "     \\ X \\ B \\ X \\ X \\ 0 \\ B \\ B \\   \\ B \\ B \\ \n",
        "      -----------------------------------------\n",
        "      \\ B \\ 0 \\   \\ 0 \\ 0 \\   \\ 0 \\ 0 \\ B \\ X \\ \n",
        "       -----------------------------------------\n",
        "       \\ 0 \\ 0 \\   \\ 0 \\ X \\   \\ X \\ B \\ B \\ B \\ \n",
        "        -----------------------------------------\n",
        "        \\ B \\   \\   \\ 0 \\ X \\ X \\ 0 \\ B \\   \\ B \\ \n",
        "         -----------------------------------------\n",
        "         \\ X \\   \\   \\   \\ X \\ B \\   \\ 0 \\ B \\ X \\ \n",
        "          -----------------------------------------\n",
        "  \"\"\"\n",
        "  print(\"-\"*41)\n",
        "  for i in range(10):\n",
        "   for j in range(10):\n",
        "      print(\"| \"+convertir_A(ATAQUE,i,j)+\" \",end=\"\")\n",
        "   print(\"|\")\n",
        "   print(\"-\"*41)\n",
        "  for i in range(10):\n",
        "   print(i*\" \",end=\"\")\n",
        "   for j in range(10):\n",
        "      print(\"\\ \"+convertir_B(BARCOS,i,j)+\" \",end=\"\",sep=\"\")\n",
        "   print(\"\\ \")\n",
        "   print((i+1)*\" \",\"-\"*41,sep=\"\")"
      ]
    },
    {
      "attachments": {},
      "cell_type": "markdown",
      "metadata": {},
      "source": [
        "Para acceder a la documentación de cualquier función se usa el comando `help()`"
      ]
    },
    {
      "cell_type": "code",
      "execution_count": null,
      "metadata": {
        "colab": {
          "base_uri": "https://localhost:8080/"
        },
        "id": "IHsx3E9QMxqC",
        "outputId": "17259792-0add-483d-d5d0-6390d73ebfa7"
      },
      "outputs": [
        {
          "name": "stdout",
          "output_type": "stream",
          "text": [
            "Help on function imprimit_tablero in module __main__:\n",
            "\n",
            "imprimit_tablero(BARCOS, ATAQUE)\n",
            "      Función que imprime un tablero N*N con N establecido por defecto en 10 para el\n",
            "      juego de astucia Naval.\n",
            "      Habrá un tablero frontal de ataque y uno diagonal de posicionamiento de barcos. \n",
            "      \n",
            "      Para el tablero de barcos:\n",
            "      Donde hay una posición de un barco sin atacar se pone la letra B. Donde hay una\n",
            "      posición de barco atacado se pone X. Donde hay mar se deja vacío y donde se atacó\n",
            "      pero no había barco se pone O.\n",
            "    \n",
            "    \n",
            "      Para el tablero de ataque:\n",
            "      Donde no se ha atacado se deja vacío, donde se atacó y no había barco se deja O\n",
            "      y donde se atacó y había parte de un barco se pone X\n",
            "    \n",
            "      >>>import numpy as np\n",
            "      >>>imprimit_tablero(np.random.randint(0,3, size=(10,10)), np.random.randint(0,3, size=(10,10)))\n",
            "    -----------------------------------------\n",
            "    | O | X | X |   |   | X | X | O |   | X |\n",
            "    -----------------------------------------\n",
            "    | X |   | X |   |   | O | O |   |   | X |\n",
            "    -----------------------------------------\n",
            "    |   | X | O | X |   | X | O | O |   |   |\n",
            "    -----------------------------------------\n",
            "    | X |   | X | O | O | X | X | X |   | X |\n",
            "    -----------------------------------------\n",
            "    | O |   |   | O | X | X | X | O | O |   |\n",
            "    -----------------------------------------\n",
            "    |   | O | O |   |   | O |   |   |   | O |\n",
            "    -----------------------------------------\n",
            "    | X | X |   | O | O | O |   | O |   | X |\n",
            "    -----------------------------------------\n",
            "    | O | O | O |   | X |   |   | X | X |   |\n",
            "    -----------------------------------------\n",
            "    | X | O | X | O | O | X | O | X | O |   |\n",
            "    -----------------------------------------\n",
            "    | X | O |   | X |   | X |   | X |   | O |\n",
            "    -----------------------------------------\n",
            "    \\ B \\ B \\ X \\ 0 \\ X \\ B \\ 0 \\   \\ X \\ B \\ \n",
            "     -----------------------------------------\n",
            "     \\ X \\ 0 \\ X \\ 0 \\ 0 \\ B \\   \\ 0 \\ X \\ B \\ \n",
            "      -----------------------------------------\n",
            "      \\ B \\ 0 \\ 0 \\   \\   \\   \\ 0 \\ 0 \\ 0 \\ B \\ \n",
            "       -----------------------------------------\n",
            "       \\   \\   \\ X \\ 0 \\ X \\ B \\ B \\ X \\ X \\ B \\ \n",
            "        -----------------------------------------\n",
            "        \\ 0 \\ X \\ X \\ B \\   \\ X \\ X \\ X \\ 0 \\ 0 \\ \n",
            "         -----------------------------------------\n",
            "         \\ X \\ B \\ X \\ X \\ 0 \\ B \\ B \\   \\ B \\ B \\ \n",
            "          -----------------------------------------\n",
            "          \\ B \\ 0 \\   \\ 0 \\ 0 \\   \\ 0 \\ 0 \\ B \\ X \\ \n",
            "           -----------------------------------------\n",
            "           \\ 0 \\ 0 \\   \\ 0 \\ X \\   \\ X \\ B \\ B \\ B \\ \n",
            "            -----------------------------------------\n",
            "            \\ B \\   \\   \\ 0 \\ X \\ X \\ 0 \\ B \\   \\ B \\ \n",
            "             -----------------------------------------\n",
            "             \\ X \\   \\   \\   \\ X \\ B \\   \\ 0 \\ B \\ X \\ \n",
            "              -----------------------------------------\n",
            "\n"
          ]
        }
      ],
      "source": [
        "help(imprimit_tablero)"
      ]
    },
    {
      "attachments": {},
      "cell_type": "markdown",
      "metadata": {},
      "source": [
        "Como ejemplo se muestra un tablero de juego con marcas arbitrarias"
      ]
    },
    {
      "cell_type": "code",
      "execution_count": null,
      "metadata": {
        "colab": {
          "base_uri": "https://localhost:8080/"
        },
        "id": "ybofIEQwlk-G",
        "outputId": "90e3b044-5bb8-4572-972a-6bb9822a09d8"
      },
      "outputs": [
        {
          "name": "stdout",
          "output_type": "stream",
          "text": [
            "-----------------------------------------\n",
            "| O | X | X |   |   | X | X | O |   | X |\n",
            "-----------------------------------------\n",
            "| X |   | X |   |   | O | O |   |   | X |\n",
            "-----------------------------------------\n",
            "|   | X | O | X |   | X | O | O |   |   |\n",
            "-----------------------------------------\n",
            "| X |   | X | O | O | X | X | X |   | X |\n",
            "-----------------------------------------\n",
            "| O |   |   | O | X | X | X | O | O |   |\n",
            "-----------------------------------------\n",
            "|   | O | O |   |   | O |   |   |   | O |\n",
            "-----------------------------------------\n",
            "| X | X |   | O | O | O |   | O |   | X |\n",
            "-----------------------------------------\n",
            "| O | O | O |   | X |   |   | X | X |   |\n",
            "-----------------------------------------\n",
            "| X | O | X | O | O | X | O | X | O |   |\n",
            "-----------------------------------------\n",
            "| X | O |   | X |   | X |   | X |   | O |\n",
            "-----------------------------------------\n",
            "\\ B \\ B \\ X \\ 0 \\ X \\ B \\ 0 \\   \\ X \\ B \\ \n",
            " -----------------------------------------\n",
            " \\ X \\ 0 \\ X \\ 0 \\ 0 \\ B \\   \\ 0 \\ X \\ B \\ \n",
            "  -----------------------------------------\n",
            "  \\ B \\ 0 \\ 0 \\   \\   \\   \\ 0 \\ 0 \\ 0 \\ B \\ \n",
            "   -----------------------------------------\n",
            "   \\   \\   \\ X \\ 0 \\ X \\ B \\ B \\ X \\ X \\ B \\ \n",
            "    -----------------------------------------\n",
            "    \\ 0 \\ X \\ X \\ B \\   \\ X \\ X \\ X \\ 0 \\ 0 \\ \n",
            "     -----------------------------------------\n",
            "     \\ X \\ B \\ X \\ X \\ 0 \\ B \\ B \\   \\ B \\ B \\ \n",
            "      -----------------------------------------\n",
            "      \\ B \\ 0 \\   \\ 0 \\ 0 \\   \\ 0 \\ 0 \\ B \\ X \\ \n",
            "       -----------------------------------------\n",
            "       \\ 0 \\ 0 \\   \\ 0 \\ X \\   \\ X \\ B \\ B \\ B \\ \n",
            "        -----------------------------------------\n",
            "        \\ B \\   \\   \\ 0 \\ X \\ X \\ 0 \\ B \\   \\ B \\ \n",
            "         -----------------------------------------\n",
            "         \\ X \\   \\   \\   \\ X \\ B \\   \\ 0 \\ B \\ X \\ \n",
            "          -----------------------------------------\n"
          ]
        }
      ],
      "source": [
        "imprimit_tablero(np.random.randint(0,4, size=(10,10)), np.random.randint(0,3, size=(10,10)))"
      ]
    },
    {
      "attachments": {},
      "cell_type": "markdown",
      "metadata": {},
      "source": [
        "## Funciones necesarias para el funcionamiento del juego"
      ]
    },
    {
      "attachments": {},
      "cell_type": "markdown",
      "metadata": {},
      "source": [
        "### Definir función vacía NxN\n",
        "\n",
        "Se define una función que retorna una matriz NxN vacía"
      ]
    },
    {
      "cell_type": "code",
      "execution_count": 172,
      "metadata": {
        "id": "B1C67PZRHOqS"
      },
      "outputs": [],
      "source": [
        "def matriz_vacia(N=10):\n",
        "  \"\"\"Función que retorna una matriz vacía\n",
        "\n",
        "  Argumento:\n",
        "      N (int, optional): Dimensión de la matriz. Por defecto 10.\n",
        "  \"\"\"\n",
        "  M = []\n",
        "  for i in range(N):\n",
        "    M.append([])\n",
        "    for j in range(N):\n",
        "      M[i].append(0)\n",
        "  return(M)\n"
      ]
    },
    {
      "cell_type": "code",
      "execution_count": 173,
      "metadata": {},
      "outputs": [
        {
          "data": {
            "text/plain": [
              "[[0, 0, 0, 0, 0, 0, 0, 0, 0, 0],\n",
              " [0, 0, 0, 0, 0, 0, 0, 0, 0, 0],\n",
              " [0, 0, 0, 0, 0, 0, 0, 0, 0, 0],\n",
              " [0, 0, 0, 0, 0, 0, 0, 0, 0, 0],\n",
              " [0, 0, 0, 0, 0, 0, 0, 0, 0, 0],\n",
              " [0, 0, 0, 0, 0, 0, 0, 0, 0, 0],\n",
              " [0, 0, 0, 0, 0, 0, 0, 0, 0, 0],\n",
              " [0, 0, 0, 0, 0, 0, 0, 0, 0, 0],\n",
              " [0, 0, 0, 0, 0, 0, 0, 0, 0, 0],\n",
              " [0, 0, 0, 0, 0, 0, 0, 0, 0, 0]]"
            ]
          },
          "execution_count": 173,
          "metadata": {},
          "output_type": "execute_result"
        }
      ],
      "source": [
        "matriz_vacia()"
      ]
    },
    {
      "attachments": {},
      "cell_type": "markdown",
      "metadata": {},
      "source": [
        "### Ubicar barcos del computador\n",
        "\n",
        "Función para ubicar un barco en una celda $10\\times10$. Esta función no modifica la matriz ni tiene valor de retorno. Ubica el barco aleatoriamente. \n",
        "\n",
        "La función tomará dos argumentos:\n",
        "\n",
        "1. barco: entero tamaño del barco (menor a 9)\n",
        "2. horizontal: booleano que determina si el barco está o no horizontal"
      ]
    },
    {
      "cell_type": "code",
      "execution_count": 180,
      "metadata": {
        "id": "lIA5igb3HTto"
      },
      "outputs": [],
      "source": [
        "def ubicar_barcos(BARCOS, barco, horizontal):\n",
        "  \"\"\"\n",
        "  Función para ubicar automáticamente un barco en una celda 10X10.\n",
        "  No modifica la matriz ni tiene valor de retorno. Ubica el barco aleatoriamente.\n",
        "\n",
        "  barco: tamaño del barco (menor a 9)\n",
        "\n",
        "  horizontal: booleano\n",
        "  \"\"\"\n",
        "  if horizontal == True:\n",
        "    fila = np.random.randint(10-barco)\n",
        "    columna = np.random.randint(10)\n",
        "    while sum(np.array(BARCOS)[fila:fila+barco,columna])>0:\n",
        "      fila = np.random.randint(10-barco)\n",
        "      columna = np.random.randint(10)\n",
        "    for i in range(fila,fila+barco,1):\n",
        "      BARCOS[i][columna]=1\n",
        "  else:\n",
        "    columna = np.random.randint(10-barco)\n",
        "    fila = np.random.randint(10)\n",
        "    while sum(BARCOS[fila][columna:columna+barco])>0:\n",
        "      columna = np.random.randint(10-barco)\n",
        "      fila = np.random.randint(10)\n",
        "    for i in range(columna,columna+barco,1):\n",
        "      BARCOS[fila][i]=1"
      ]
    },
    {
      "cell_type": "code",
      "execution_count": 182,
      "metadata": {},
      "outputs": [
        {
          "data": {
            "text/plain": [
              "array([[0., 0., 0., 0., 0., 0., 1., 0., 0., 0.],\n",
              "       [0., 0., 0., 0., 0., 0., 1., 0., 0., 0.],\n",
              "       [0., 0., 0., 0., 0., 0., 1., 0., 0., 0.],\n",
              "       [0., 0., 0., 0., 0., 0., 1., 0., 0., 0.],\n",
              "       [0., 0., 0., 0., 0., 0., 0., 0., 0., 0.],\n",
              "       [0., 0., 0., 0., 0., 0., 0., 0., 0., 0.],\n",
              "       [0., 0., 0., 0., 0., 0., 0., 0., 0., 0.],\n",
              "       [0., 0., 0., 0., 0., 0., 0., 0., 0., 0.],\n",
              "       [0., 0., 0., 0., 0., 0., 0., 0., 0., 0.],\n",
              "       [0., 0., 0., 0., 0., 0., 0., 0., 0., 0.]])"
            ]
          },
          "execution_count": 182,
          "metadata": {},
          "output_type": "execute_result"
        }
      ],
      "source": [
        "MAT = np.zeros(shape=(10,10))\n",
        "ubicar_barcos(MAT,4,True)\n",
        "MAT"
      ]
    },
    {
      "attachments": {},
      "cell_type": "markdown",
      "metadata": {},
      "source": [
        "### Ubicar barcos del jugador\n",
        "\n",
        "Función para ubicar un barco en una celda $10\\times10$. Esta función no modifica la matriz ni tiene valor de retorno. Ubica el barco pidiendole al jugador la posición desde la que ubicará la popa del barco. Previamente se le ingrsan dos argumentos, uno de ellos es un entero que corresponde al tamaño del barco y el otro un booleano que dice si se desea o no el barco horizontal. La proa del barco la ubica automáticamente hacia el sur(oriente) de donde tiene la popa.\n",
        "\n",
        "La función tomará dos argumentos:\n",
        "\n",
        "1. barco: entero tamaño del barco (menor a 9)\n",
        "2. horizontal: booleano que determina si el barco está o no horizontal"
      ]
    },
    {
      "cell_type": "code",
      "execution_count": 183,
      "metadata": {
        "id": "DYat0yldHboO"
      },
      "outputs": [],
      "source": [
        "def ubicar_barcos_jugador(BARCOS, barco, horizontal):\n",
        "  \"\"\"\n",
        "  Función para ubicar un barco en una celda 10X10\n",
        "\n",
        "  barco: tamaño del barco (menor a 9)\n",
        "\n",
        "  horizontal: booleano\n",
        "  \"\"\"\n",
        "  if horizontal == True:\n",
        "    fila = int(input(\"Ingrese la posición de la FILA en que va a poner la popa del barco (Entre 0 y {})\\t\".format(10-barco)))\n",
        "    columna = int(input(\"Ingrese la posición de la COLUMNA en que va a poner la popa del barco (Entre 0 y 9)\\t\"))\n",
        "    while sum(np.array(BARCOS)[fila:fila+barco,columna])>0:\n",
        "      fila = int(input(\"Se cruzaría con otro barco, ingrese otro valor para la FILA (Entre 0 y {})\\t\".format(10-barco)))\n",
        "      columna = int(input(\"Se cruzaría con otro barco, ingrese otro valor para la COLUMNA (Entre 0 y 9)\\t\"))\n",
        "    for i in range(fila,fila+barco,1):\n",
        "      BARCOS[i][columna]=1\n",
        "  else:\n",
        "    fila = int(input(\"Ingrese la posición de la FILA en que va a poner la popa del barco (Entre 0 y 9)\\t\"))\n",
        "    columna = int(input(\"Ingrese la posición de la COLUMNA en que va a poner la popa del barco (Entre 0 y {})\\t\".format(10-barco)))\n",
        "    while sum(BARCOS[fila][columna:columna+barco])>0:\n",
        "      fila = int(input(\"Se cruzaría con otro barco, ingrese otro valor para la FILA (Entre 0 y 9)\\t\"))\n",
        "      columna = int(input(\"Se cruzaría con otro barco, ingrese otro valor para la COLUMNA (Entre 0 y {})\\t\".format(10-barco)))\n",
        "    for i in range(columna,columna+barco,1):\n",
        "      BARCOS[fila][i]=1"
      ]
    },
    {
      "cell_type": "code",
      "execution_count": 185,
      "metadata": {},
      "outputs": [
        {
          "name": "stdout",
          "output_type": "stream",
          "text": [
            "La matriz con el barco ubicado es\n",
            " [[0. 1. 0. 0. 0. 0. 0. 0. 0. 0.]\n",
            " [0. 1. 0. 0. 0. 0. 0. 0. 0. 0.]\n",
            " [0. 1. 0. 0. 0. 0. 0. 0. 0. 0.]\n",
            " [0. 1. 0. 0. 0. 0. 0. 0. 0. 0.]\n",
            " [0. 0. 0. 0. 0. 0. 0. 0. 0. 0.]\n",
            " [0. 0. 0. 0. 0. 0. 0. 0. 0. 0.]\n",
            " [0. 0. 0. 0. 0. 0. 0. 0. 0. 0.]\n",
            " [0. 0. 0. 0. 0. 0. 0. 0. 0. 0.]\n",
            " [0. 0. 0. 0. 0. 0. 0. 0. 0. 0.]\n",
            " [0. 0. 0. 0. 0. 0. 0. 0. 0. 0.]]\n"
          ]
        }
      ],
      "source": [
        "MAT = np.zeros(shape=(10,10))\n",
        "ubicar_barcos_jugador(MAT,4,True)\n",
        "print(\"La matriz con el barco ubicado es\\n\",MAT)"
      ]
    },
    {
      "attachments": {},
      "cell_type": "markdown",
      "metadata": {},
      "source": [
        "### Recibir y hacer ataques del jugador\n",
        "\n",
        "Función que toma una matriz de barcos del jugador que defiende y la matriz de ataque del otro jugador. Pregunta donde se hará el ataque, verifica que no se hubiera atacado antes ahí y modifica los valores de las matrices de acuerdo al esquema de valores definido anteriormente."
      ]
    },
    {
      "cell_type": "code",
      "execution_count": 187,
      "metadata": {
        "id": "T0RxvXuXHgJR"
      },
      "outputs": [],
      "source": [
        "def recibir_y_hacer_ataque(BARCOS, ATAQUE):\n",
        "  \"\"\"\n",
        "Función que toma una matriz de barcos del jugador que defiende y la matriz de ataque del otro jugador. Pregunta donde se hará el ataque, verifica que no se hubiera atacado antes ahí y modifica los valores de las matrices de acuerdo al esquema de valores definido anteriormente.\n",
        "Retorna las dos matrices modificadas\n",
        "  \n",
        "  Argumentos:\n",
        "      BARCOS: Matriz de barcos del jugador que defiende.\n",
        "      ATAQUE: Matriz de ataque del jugador que tiene el turno.\n",
        "  \"\"\"\n",
        "  VALIDO = 0\n",
        "  while VALIDO == 0:\n",
        "    fila_a = int(input(\"¿A qué fila diriges el ataque? (Número de 0 a 9): \"))\n",
        "    columna_a = int(input(\"¿A qué columna diriges el ataque? (Número de 0 a 9): \"))\n",
        "    if BARCOS[fila_a][columna_a] == 0:\n",
        "      print(\"No habían barcos\")\n",
        "      BARCOS[fila_a][columna_a] = 2\n",
        "      ATAQUE[fila_a][columna_a] = 1\n",
        "      VALIDO = 1\n",
        "    elif BARCOS[fila_a][columna_a] == 1:\n",
        "      print(\"¡¡¡IMPACTO!!!\")\n",
        "      BARCOS[fila_a][columna_a] = 3\n",
        "      ATAQUE[fila_a][columna_a] = 2\n",
        "      VALIDO = 1\n",
        "    else:\n",
        "      print(\"Ataque no válido, intenta nuevamente\")\n",
        "  return(BARCOS, ATAQUE)"
      ]
    },
    {
      "attachments": {},
      "cell_type": "markdown",
      "metadata": {},
      "source": [
        "### Recibir y hacer ataques del computador\n",
        "\n",
        "Función que toma una matriz de barcos del jugador que defiende y la matriz de ataque del otro jugador. Genera dos números aleatorios para el ataque, verifica que no se hubiera atacado antes ahí y modifica los valores de las matrices de acuerdo al esquema de valores definido anteriormente."
      ]
    },
    {
      "cell_type": "code",
      "execution_count": 188,
      "metadata": {
        "id": "Z9WXHzZFHjQv"
      },
      "outputs": [],
      "source": [
        "def recibir_y_hacer_ataque_PC(BARCOS, ATAQUE):\n",
        "  \"\"\"Función que toma una matriz de barcos del jugador que defiende y la matriz de ataque del otro jugador. Genera dos números aleatorios para el ataque, verifica que no se hubiera atacado antes ahí y modifica los valores de las matrices de acuerdo al esquema de valores definido anteriormente.\n",
        "  Retorna las dos matrices modificadas.\n",
        "  \n",
        "  Argumentos:\n",
        "      BARCOS: Matriz de barcos del jugador\n",
        "      ATAQUE: Matriz de ataque del computador\n",
        "  \"\"\"\n",
        "  BARCOS = BARCOS[:]\n",
        "  ATAQUE = ATAQUE[:]\n",
        "  VALIDO = 0\n",
        "  while VALIDO == 0:\n",
        "    fila_a = np.random.randint(10)\n",
        "    columna_a = np.random.randint(10)\n",
        "    if BARCOS[fila_a][columna_a] == 0:\n",
        "      print(\"Te atacó el computador en las posiciones fila: {}, columna: {} pero no habían barcos\".format(fila_a,columna_a))\n",
        "      BARCOS[fila_a][columna_a] = 2\n",
        "      ATAQUE[fila_a][columna_a] = 1\n",
        "      VALIDO = 1\n",
        "    elif BARCOS[fila_a][columna_a] == 1:\n",
        "      print(\"Te atacó el computador en las posiciones fila: {}, columna: {} e impactó con uno de tus barcos\".format(fila_a,columna_a))\n",
        "      BARCOS[fila_a][columna_a] = 3\n",
        "      ATAQUE[fila_a][columna_a] = 2\n",
        "      VALIDO = 1\n",
        "  return(BARCOS, ATAQUE)"
      ]
    },
    {
      "attachments": {},
      "cell_type": "markdown",
      "metadata": {},
      "source": [
        "### Verificar victoria\n",
        "\n",
        "Para verificar si alguno de los dos jugadores ganó se implementaron dos funciones.\n",
        "La primera de ellas recibe la matriz de barcos de un jugador y retorna True en caso de que ningún barco quede en pié o False si queda al menos un barco vivo.\n",
        "La segunda función usa la primera para ver si hay algun jugador que dejó al rival sin barcos, si ambos siguen en jueego o si ambos perdieron en la misma ronda."
      ]
    },
    {
      "cell_type": "code",
      "execution_count": 189,
      "metadata": {
        "id": "1NCHMLlYIipV"
      },
      "outputs": [],
      "source": [
        "def verificar_victoria_single(BARCOS):\n",
        "  \"\"\"recibe la matriz de barcos de un jugador y retorna True en caso de que ningún barco quede en pié o False si queda al menos un barco vivo.\n",
        "\n",
        "  Argumentos:\n",
        "      BARCOS: Matriz de barcos a verificar\n",
        "  \"\"\"\n",
        "  for i in range(10):\n",
        "    for j in range(10):\n",
        "      if BARCOS[i][j]==1:\n",
        "        return(False)\n",
        "  return(True)"
      ]
    },
    {
      "cell_type": "code",
      "execution_count": 193,
      "metadata": {},
      "outputs": [
        {
          "name": "stdout",
          "output_type": "stream",
          "text": [
            "FUnción aplicada a matriz de ceros: True\n",
            "FUnción aplicada a matriz con ceros, un 1 y un 2: False\n"
          ]
        }
      ],
      "source": [
        "resultado_1 = verificar_victoria_single(np.zeros(shape=(10,10)))\n",
        "Mat=np.zeros(shape=(10,10))\n",
        "Mat[5,5]=2\n",
        "Mat[6,6]=1\n",
        "resultado_2 = verificar_victoria_single(Mat)\n",
        "print(\"FUnción aplicada a matriz de ceros:\",resultado_1)\n",
        "print(\"FUnción aplicada a matriz con ceros, un 1 y un 2:\",resultado_2)"
      ]
    },
    {
      "cell_type": "code",
      "execution_count": 190,
      "metadata": {
        "id": "b-y1G3zlImxa"
      },
      "outputs": [],
      "source": [
        "def verificar_victoria(BARCOS_1, BARCOS_2, JUGADOR_1=\"Jugador 1\", JUGADOR_2=\"Jugador 2\"):\n",
        "  \"\"\"Función que recibe las matrices de barcos de ambos jugadores, imprime en pantalla \n",
        "  si alguno de los dos ganó o si hubo empate y retorna 0 en caso de que siga el juego y 1 si ya terminó.\n",
        "\n",
        "  Argumentos:\n",
        "      BARCOS_1: Matriz de barcos del jugador 1\n",
        "      BARCOS_2: Matriz de barcos del jugador 1\n",
        "      JUGADOR_1 (str, optional): Nombre del jugador 1. Defaults to \"Jugador 1\".\n",
        "      JUGADOR_2 (str, optional): Nombre del jugador 2. Defaults to \"Jugador 2\".\n",
        "  \"\"\"\n",
        "  WIN_1=verificar_victoria_single(BARCOS_1)\n",
        "  WIN_2=verificar_victoria_single(BARCOS_2)\n",
        "  FIN = 0\n",
        "  if WIN_1==True and WIN_2==False:\n",
        "    print(\"Ganador\", JUGADOR_1)\n",
        "    FIN = 1\n",
        "  elif WIN_1==False and WIN_2==True:\n",
        "    print(\"Ganador\", JUGADOR_2)\n",
        "    FIN = 1\n",
        "  elif WIN_1==True and WIN_2==True:\n",
        "    print(\"Empate\")\n",
        "    FIN = 1\n",
        "  return(FIN)  "
      ]
    },
    {
      "cell_type": "code",
      "execution_count": 196,
      "metadata": {},
      "outputs": [
        {
          "name": "stdout",
          "output_type": "stream",
          "text": [
            "Ganador Jugador 2\n",
            "Función aplicada a matriz con ceros, un 1 y un 2 y a una matriz de ceros: 1\n",
            "Función aplicada dos matrices con ceros, un 1 y un 2: 0\n"
          ]
        }
      ],
      "source": [
        "Mat=np.zeros(shape=(10,10))\n",
        "Mat[5,5]=2\n",
        "Mat[6,6]=1\n",
        "resultado = verificar_victoria(Mat,np.zeros(shape=(10,10)))\n",
        "print(\"Función aplicada a matriz con ceros, un 1 y un 2 y a una matriz de ceros:\",resultado)\n",
        "\n",
        "resultado_2 = verificar_victoria(Mat,Mat)\n",
        "print(\"Función aplicada dos matrices con ceros, un 1 y un 2:\",resultado_2)\n"
      ]
    },
    {
      "attachments": {},
      "cell_type": "markdown",
      "metadata": {},
      "source": [
        "### Juego implementado\n",
        "\n",
        "Se han unido las funciones de forma adecuada para dar sentido al juego de astucia naval"
      ]
    },
    {
      "cell_type": "code",
      "execution_count": null,
      "metadata": {},
      "outputs": [],
      "source": [
        "JUGADOR= input(\"Ingrese el nombre del jugador 1: \")\n",
        "\n",
        "BARCO_PC = matriz_vacia()\n",
        "ATAQUE_PC = matriz_vacia()\n",
        "BARCO_JUGADOR = matriz_vacia()\n",
        "ATAQUE_JUGADOR = matriz_vacia()\n",
        "\n",
        "#Ubica barcos del computador\n",
        "ORIENTACION = [True, False]\n",
        "for barco in [2,3,3,4,5]:\n",
        "  POS = ORIENTACION[np.random.randint(0,2)]\n",
        "  ubicar_barcos(BARCO_PC, barco, POS)\n",
        "\n",
        "#Ubica barcos jugador\n",
        "for barco in [2,3,3,4,5]:\n",
        "  print(\"\\n\\nUbicaremos un barco de tamaño\",barco)\n",
        "  horizontal = input(\"Si desea ubicar su barco vertical ingrese SI, de lo contrario ingrese cualquier otra cosa:\\t\")\n",
        "  ubicar_barcos_jugador(BARCO_JUGADOR, barco, horizontal.lower()==\"si\")\n",
        "\n",
        "\n",
        "# Imprime franjas para dividir\n",
        "print(\"*\"*50)\n",
        "print(\"*\"*50)\n",
        "print(\"*\"*50)\n",
        "\n",
        "#Inicio del juego\n",
        "\n",
        "print(\"INICIA EL JUEGO, ¡QUE GANE EL MEJOR!\")\n",
        "FIN = 0\n",
        "while FIN==0:\n",
        "  # Ataque del jugador\n",
        "  print(\"          ATAQUE DE \",JUGADOR)\n",
        "  BARCO_PC,ATAQUE_JUGADOR = recibir_y_hacer_ataque(BARCO_PC,ATAQUE_JUGADOR)\n",
        "  #Ataque del PC\n",
        "  print(\"          ATAQUE DEL PC \")\n",
        "  BARCO_JUGADOR,ATAQUE_PC = recibir_y_hacer_ataque_PC(BARCO_JUGADOR,ATAQUE_PC)\n",
        "  graficar_tablero(BARCO_JUGADOR,ATAQUE_JUGADOR)\n",
        "  #Verificar victoria\n",
        "  FIN = verificar_victoria(BARCO_JUGADOR, BARCO_PC, JUGADOR_1=JUGADOR, JUGADOR_2=\"Computador\")\n",
        "  if FIN == 0:\n",
        "      print(\"\\n\\n\")"
      ]
    }
  ],
  "metadata": {
    "colab": {
      "provenance": []
    },
    "kernelspec": {
      "display_name": "Python 3.10 (tensorflow)",
      "language": "python",
      "name": "tensorflow"
    },
    "language_info": {
      "codemirror_mode": {
        "name": "ipython",
        "version": 3
      },
      "file_extension": ".py",
      "mimetype": "text/x-python",
      "name": "python",
      "nbconvert_exporter": "python",
      "pygments_lexer": "ipython3",
      "version": "3.10.9"
    }
  },
  "nbformat": 4,
  "nbformat_minor": 0
}
